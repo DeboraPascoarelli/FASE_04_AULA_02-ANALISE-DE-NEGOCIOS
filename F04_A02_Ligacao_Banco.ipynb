{
 "cells": [
  {
   "cell_type": "markdown",
   "metadata": {},
   "source": [
    "## Análise de Negócios"
   ]
  },
  {
   "cell_type": "markdown",
   "metadata": {},
   "source": [
    "### Preços de Combustíveis"
   ]
  },
  {
   "cell_type": "code",
   "execution_count": 1,
   "metadata": {},
   "outputs": [
    {
     "data": {
      "text/plain": [
       "'\\nCREATE TABLE anp.preco_combustivel(\\n\\t\\t regiao \\t\\tvarchar(255)\\n\\t\\t,estado \\t\\tvarchar(255)\\n\\t\\t,municipio \\t\\tvarchar(255)\\n\\t\\t,revenda \\t\\tvarchar(255)\\n\\t\\t,cnpj \\t\\t\\tvarchar(255)\\n\\t\\t,nome_rua \\t\\tvarchar(255)\\n\\t\\t,numero_rua \\tvarchar(255)\\n\\t\\t,complemento \\tvarchar(255)\\n\\t\\t,bairro \\t\\tvarchar(255)\\n\\t\\t,cep \\t\\t\\tvarchar(255)\\n\\t\\t,produto \\t\\tvarchar(255)\\n\\t\\t,data_coleta \\tdate\\n\\t\\t,valor_venda \\tfloat\\n\\t\\t,unidade_medida varchar(255)\\n\\t\\t,bandeira  \\t\\tvarchar(255)\\n)\\n\\n'"
      ]
     },
     "execution_count": 1,
     "metadata": {},
     "output_type": "execute_result"
    }
   ],
   "source": [
    "# Utilizamos a criação da tabela no PostgreSQL\n",
    "\n",
    "\"\"\"\n",
    "CREATE TABLE anp.preco_combustivel(\n",
    "\t\t regiao \t\tvarchar(255)\n",
    "\t\t,estado \t\tvarchar(255)\n",
    "\t\t,municipio \t\tvarchar(255)\n",
    "\t\t,revenda \t\tvarchar(255)\n",
    "\t\t,cnpj \t\t\tvarchar(255)\n",
    "\t\t,nome_rua \t\tvarchar(255)\n",
    "\t\t,numero_rua \tvarchar(255)\n",
    "\t\t,complemento \tvarchar(255)\n",
    "\t\t,bairro \t\tvarchar(255)\n",
    "\t\t,cep \t\t\tvarchar(255)\n",
    "\t\t,produto \t\tvarchar(255)\n",
    "\t\t,data_coleta \tdate\n",
    "\t\t,valor_venda \tfloat\n",
    "\t\t,unidade_medida varchar(255)\n",
    "\t\t,bandeira  \t\tvarchar(255)\n",
    ")\n",
    "\n",
    "\"\"\"\n"
   ]
  },
  {
   "cell_type": "markdown",
   "metadata": {},
   "source": [
    "### Instalando as Bibliotecas"
   ]
  },
  {
   "cell_type": "code",
   "execution_count": 2,
   "metadata": {},
   "outputs": [
    {
     "name": "stdout",
     "output_type": "stream",
     "text": [
      "Collecting psycopg2\n",
      "  Downloading psycopg2-2.9.10-cp311-cp311-win_amd64.whl.metadata (5.0 kB)\n",
      "Downloading psycopg2-2.9.10-cp311-cp311-win_amd64.whl (1.2 MB)\n",
      "   ---------------------------------------- 0.0/1.2 MB ? eta -:--:--\n",
      "   ---------------------------------------- 1.2/1.2 MB 9.6 MB/s eta 0:00:00\n",
      "Installing collected packages: psycopg2\n",
      "Successfully installed psycopg2-2.9.10\n",
      "Note: you may need to restart the kernel to use updated packages.\n"
     ]
    }
   ],
   "source": [
    "pip install psycopg2\n"
   ]
  },
  {
   "cell_type": "code",
   "execution_count": 3,
   "metadata": {},
   "outputs": [],
   "source": [
    "import pandas as pd\n",
    "import pandas.io.sql as sqlio\n",
    "import psycopg2 as ps\n"
   ]
  },
  {
   "cell_type": "code",
   "execution_count": 8,
   "metadata": {},
   "outputs": [],
   "source": [
    "conn = ps.connect(dbname = 'ANP',\n",
    "                    user ='postgres',\n",
    "                    password = 'crf2038',\n",
    "                    host = 'localhost',\n",
    "                    port = '5432' )\n"
   ]
  },
  {
   "cell_type": "code",
   "execution_count": 9,
   "metadata": {},
   "outputs": [],
   "source": [
    "sql = \"\"\"\n",
    "SELECT * FROM anp.preco_combustivel\n",
    "\"\"\"\n"
   ]
  },
  {
   "cell_type": "code",
   "execution_count": 10,
   "metadata": {},
   "outputs": [
    {
     "name": "stderr",
     "output_type": "stream",
     "text": [
      "C:\\Users\\fabia\\AppData\\Local\\Temp\\ipykernel_10688\\76855033.py:1: UserWarning: pandas only supports SQLAlchemy connectable (engine/connection) or database string URI or sqlite3 DBAPI2 connection. Other DBAPI2 objects are not tested. Please consider using SQLAlchemy.\n",
      "  df = sqlio.read_sql_query(sql, conn)\n"
     ]
    }
   ],
   "source": [
    "df = sqlio.read_sql_query(sql, conn)\n"
   ]
  },
  {
   "cell_type": "code",
   "execution_count": 11,
   "metadata": {},
   "outputs": [
    {
     "data": {
      "text/html": [
       "<div>\n",
       "<style scoped>\n",
       "    .dataframe tbody tr th:only-of-type {\n",
       "        vertical-align: middle;\n",
       "    }\n",
       "\n",
       "    .dataframe tbody tr th {\n",
       "        vertical-align: top;\n",
       "    }\n",
       "\n",
       "    .dataframe thead th {\n",
       "        text-align: right;\n",
       "    }\n",
       "</style>\n",
       "<table border=\"1\" class=\"dataframe\">\n",
       "  <thead>\n",
       "    <tr style=\"text-align: right;\">\n",
       "      <th></th>\n",
       "      <th>regiao</th>\n",
       "      <th>estado</th>\n",
       "      <th>municipio</th>\n",
       "      <th>revenda</th>\n",
       "      <th>cnpj</th>\n",
       "      <th>nome_rua</th>\n",
       "      <th>numero_rua</th>\n",
       "      <th>complemento</th>\n",
       "      <th>bairro</th>\n",
       "      <th>cep</th>\n",
       "      <th>produto</th>\n",
       "      <th>data_coleta</th>\n",
       "      <th>valor_venda</th>\n",
       "      <th>unidade_medida</th>\n",
       "      <th>bandeira</th>\n",
       "    </tr>\n",
       "  </thead>\n",
       "  <tbody>\n",
       "    <tr>\n",
       "      <th>0</th>\n",
       "      <td>NE</td>\n",
       "      <td>BA</td>\n",
       "      <td>SALVADOR</td>\n",
       "      <td>PETROBRAS DISTRIBUIDORA S.A.</td>\n",
       "      <td>34.274.233/0015-08</td>\n",
       "      <td>RUA EDISTIO PONDE</td>\n",
       "      <td>474</td>\n",
       "      <td>None</td>\n",
       "      <td>STIEP</td>\n",
       "      <td>41770-395</td>\n",
       "      <td>GNV</td>\n",
       "      <td>2018-01-02</td>\n",
       "      <td>2.370</td>\n",
       "      <td>R$ / m³</td>\n",
       "      <td>PETROBRAS DISTRIBUIDORA S.A.</td>\n",
       "    </tr>\n",
       "    <tr>\n",
       "      <th>1</th>\n",
       "      <td>NE</td>\n",
       "      <td>BA</td>\n",
       "      <td>SALVADOR</td>\n",
       "      <td>PETROBRAS DISTRIBUIDORA S.A.</td>\n",
       "      <td>34.274.233/0015-08</td>\n",
       "      <td>RUA EDISTIO PONDE</td>\n",
       "      <td>474</td>\n",
       "      <td>None</td>\n",
       "      <td>STIEP</td>\n",
       "      <td>41770-395</td>\n",
       "      <td>DIESEL S10</td>\n",
       "      <td>2018-01-02</td>\n",
       "      <td>3.240</td>\n",
       "      <td>R$ / litro</td>\n",
       "      <td>PETROBRAS DISTRIBUIDORA S.A.</td>\n",
       "    </tr>\n",
       "    <tr>\n",
       "      <th>2</th>\n",
       "      <td>NE</td>\n",
       "      <td>BA</td>\n",
       "      <td>SALVADOR</td>\n",
       "      <td>PETROBRAS DISTRIBUIDORA S.A.</td>\n",
       "      <td>34.274.233/0015-08</td>\n",
       "      <td>RUA EDISTIO PONDE</td>\n",
       "      <td>474</td>\n",
       "      <td>None</td>\n",
       "      <td>STIEP</td>\n",
       "      <td>41770-395</td>\n",
       "      <td>ETANOL</td>\n",
       "      <td>2018-01-02</td>\n",
       "      <td>2.930</td>\n",
       "      <td>R$ / litro</td>\n",
       "      <td>PETROBRAS DISTRIBUIDORA S.A.</td>\n",
       "    </tr>\n",
       "    <tr>\n",
       "      <th>3</th>\n",
       "      <td>NE</td>\n",
       "      <td>BA</td>\n",
       "      <td>SALVADOR</td>\n",
       "      <td>PETROBRAS DISTRIBUIDORA S.A.</td>\n",
       "      <td>34.274.233/0015-08</td>\n",
       "      <td>RUA EDISTIO PONDE</td>\n",
       "      <td>474</td>\n",
       "      <td>None</td>\n",
       "      <td>STIEP</td>\n",
       "      <td>41770-395</td>\n",
       "      <td>GASOLINA</td>\n",
       "      <td>2018-01-02</td>\n",
       "      <td>3.620</td>\n",
       "      <td>R$ / litro</td>\n",
       "      <td>PETROBRAS DISTRIBUIDORA S.A.</td>\n",
       "    </tr>\n",
       "    <tr>\n",
       "      <th>4</th>\n",
       "      <td>S</td>\n",
       "      <td>RS</td>\n",
       "      <td>CANOAS</td>\n",
       "      <td>METROPOLITANO COMERCIO DE COMBUSTIVEIS LTDA</td>\n",
       "      <td>88.587.589/0001-17</td>\n",
       "      <td>AVENIDA GUILHERME SCHELL</td>\n",
       "      <td>6340</td>\n",
       "      <td>None</td>\n",
       "      <td>CENTRO</td>\n",
       "      <td>92310-000</td>\n",
       "      <td>GNV</td>\n",
       "      <td>2018-01-02</td>\n",
       "      <td>2.699</td>\n",
       "      <td>R$ / m³</td>\n",
       "      <td>BRANCA</td>\n",
       "    </tr>\n",
       "  </tbody>\n",
       "</table>\n",
       "</div>"
      ],
      "text/plain": [
       "  regiao estado  ... unidade_medida                      bandeira\n",
       "0     NE     BA  ...        R$ / m³  PETROBRAS DISTRIBUIDORA S.A.\n",
       "1     NE     BA  ...     R$ / litro  PETROBRAS DISTRIBUIDORA S.A.\n",
       "2     NE     BA  ...     R$ / litro  PETROBRAS DISTRIBUIDORA S.A.\n",
       "3     NE     BA  ...     R$ / litro  PETROBRAS DISTRIBUIDORA S.A.\n",
       "4      S     RS  ...        R$ / m³                        BRANCA\n",
       "\n",
       "[5 rows x 15 columns]"
      ]
     },
     "execution_count": 11,
     "metadata": {},
     "output_type": "execute_result"
    }
   ],
   "source": [
    "df.head()\n"
   ]
  },
  {
   "cell_type": "code",
   "execution_count": 12,
   "metadata": {},
   "outputs": [
    {
     "name": "stdout",
     "output_type": "stream",
     "text": [
      "<class 'pandas.core.frame.DataFrame'>\n",
      "RangeIndex: 4401370 entries, 0 to 4401369\n",
      "Data columns (total 15 columns):\n",
      " #   Column          Dtype  \n",
      "---  ------          -----  \n",
      " 0   regiao          object \n",
      " 1   estado          object \n",
      " 2   municipio       object \n",
      " 3   revenda         object \n",
      " 4   cnpj            object \n",
      " 5   nome_rua        object \n",
      " 6   numero_rua      object \n",
      " 7   complemento     object \n",
      " 8   bairro          object \n",
      " 9   cep             object \n",
      " 10  produto         object \n",
      " 11  data_coleta     object \n",
      " 12  valor_venda     float64\n",
      " 13  unidade_medida  object \n",
      " 14  bandeira        object \n",
      "dtypes: float64(1), object(14)\n",
      "memory usage: 503.7+ MB\n"
     ]
    }
   ],
   "source": [
    "df.info()\n"
   ]
  },
  {
   "cell_type": "code",
   "execution_count": 13,
   "metadata": {},
   "outputs": [
    {
     "data": {
      "text/plain": [
       "(4401370, 15)"
      ]
     },
     "execution_count": 13,
     "metadata": {},
     "output_type": "execute_result"
    }
   ],
   "source": [
    "df.shape\n"
   ]
  },
  {
   "cell_type": "code",
   "execution_count": null,
   "metadata": {},
   "outputs": [],
   "source": []
  }
 ],
 "metadata": {
  "kernelspec": {
   "display_name": "Python 3",
   "language": "python",
   "name": "python3"
  },
  "language_info": {
   "codemirror_mode": {
    "name": "ipython",
    "version": 3
   },
   "file_extension": ".py",
   "mimetype": "text/x-python",
   "name": "python",
   "nbconvert_exporter": "python",
   "pygments_lexer": "ipython3",
   "version": "3.11.9"
  }
 },
 "nbformat": 4,
 "nbformat_minor": 2
}
